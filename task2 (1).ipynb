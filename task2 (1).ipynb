{
 "cells": [
  {
   "cell_type": "code",
   "execution_count": 1,
   "id": "89a88ed8-ec50-480f-a3bc-8ad89dc73bc3",
   "metadata": {},
   "outputs": [
    {
     "name": "stdout",
     "output_type": "stream",
     "text": [
      "Report generated: report.pdf\n"
     ]
    }
   ],
   "source": [
    "import pandas as pd\n",
    "from fpdf import FPDF\n",
    "\n",
    "# Function to read data from a CSV file\n",
    "def read_data(file_path):\n",
    "    return pd.read_csv(file_path)\n",
    "\n",
    "# Function to analyze data\n",
    "def analyze_data(df):\n",
    "    summary = df.describe().to_dict()\n",
    "    return summary\n",
    "\n",
    "# Function to generate PDF report\n",
    "def generate_pdf_report(summary, output_file=\"report.pdf\"):\n",
    "    pdf = FPDF()\n",
    "    pdf.set_auto_page_break(auto=True, margin=15)\n",
    "    pdf.add_page()\n",
    "    pdf.set_font(\"Arial\", \"B\", 16)\n",
    "    pdf.cell(200, 10, \"Automated Data Analysis Report\", ln=True, align='C')\n",
    "    pdf.ln(10)\n",
    "    \n",
    "    pdf.set_font(\"Arial\", \"B\", 12)\n",
    "    for column, stats in summary.items():\n",
    "        pdf.cell(0, 10, f\"Column: {column}\", ln=True, align='L')\n",
    "        pdf.set_font(\"Arial\", \"\", 10)\n",
    "        for stat, value in stats.items():\n",
    "            pdf.cell(0, 10, f\"  {stat}: {value:.2f}\", ln=True, align='L')\n",
    "        pdf.ln(5)\n",
    "        pdf.set_font(\"Arial\", \"B\", 12)\n",
    "    \n",
    "    pdf.output(output_file)\n",
    "    print(f\"Report generated: {output_file}\")\n",
    "# Example usage\n",
    "if __name__ == \"__main__\":\n",
    "    file_path = \"data.csv\"  # Replace with actual file path\n",
    "    df = read_data(file_path)\n",
    "    summary = analyze_data(df)\n",
    "    generate_pdf_report(summary)\n"
   ]
  },
  {
   "cell_type": "code",
   "execution_count": 3,
   "id": "19a037ee-c0df-443a-a7f5-4be36272a744",
   "metadata": {},
   "outputs": [
    {
     "name": "stdout",
     "output_type": "stream",
     "text": [
      "Report generated: report.pdf\n"
     ]
    }
   ],
   "source": [
    "if __name__ == \"__main__\":\n",
    "    file_path = \"data.csv\"  # Replace with actual file path\n",
    "    df = read_data(file_path)\n",
    "    summary = analyze_data(df)\n",
    "    generate_pdf_report(summary)\n"
   ]
  },
  {
   "cell_type": "code",
   "execution_count": 6,
   "id": "de23a0bb-514a-4a8c-a983-319b42aa48dd",
   "metadata": {},
   "outputs": [
    {
     "data": {
      "text/plain": [
       "True"
      ]
     },
     "execution_count": 6,
     "metadata": {},
     "output_type": "execute_result"
    }
   ],
   "source": [
    "import webbrowser\n",
    "webbrowser.open(\"report.pdf\")\n"
   ]
  }
 ],
 "metadata": {
  "kernelspec": {
   "display_name": "Python [conda env:base] *",
   "language": "python",
   "name": "conda-base-py"
  },
  "language_info": {
   "codemirror_mode": {
    "name": "ipython",
    "version": 3
   },
   "file_extension": ".py",
   "mimetype": "text/x-python",
   "name": "python",
   "nbconvert_exporter": "python",
   "pygments_lexer": "ipython3",
   "version": "3.12.7"
  }
 },
 "nbformat": 4,
 "nbformat_minor": 5
}
